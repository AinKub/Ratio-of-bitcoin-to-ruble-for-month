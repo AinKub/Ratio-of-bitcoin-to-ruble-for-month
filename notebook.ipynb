{
 "cells": [
  {
   "cell_type": "code",
   "execution_count": 9,
   "metadata": {},
   "outputs": [
    {
     "name": "stdout",
     "output_type": "stream",
     "text": [
      "{'motd': {'msg': 'If you or your company use this project or like what we doing, please consider backing us so we can continue maintaining and evolving this project.', 'url': 'https://exchangerate.host/#/donate'}, 'success': True, 'timeseries': True, 'base': 'EUR', 'start_date': '2023-08-01', 'end_date': '2023-08-22', 'rates': {'2023-08-01': {'BTC': 3.8e-05, 'RUB': 101.671781}, '2023-08-02': {'BTC': 3.8e-05, 'RUB': 102.879562}, '2023-08-03': {'BTC': 3.7e-05, 'RUB': 103.485997}, '2023-08-04': {'BTC': 3.8e-05, 'RUB': 105.667543}, '2023-08-05': {'BTC': 3.8e-05, 'RUB': 105.637306}, '2023-08-06': {'BTC': 3.8e-05, 'RUB': 105.44541}, '2023-08-07': {'BTC': 3.8e-05, 'RUB': 104.866322}, '2023-08-08': {'BTC': 3.7e-05, 'RUB': 106.399871}, '2023-08-09': {'BTC': 3.7e-05, 'RUB': 106.345125}, '2023-08-10': {'BTC': 3.7e-05, 'RUB': 106.462037}, '2023-08-11': {'BTC': 3.7e-05, 'RUB': 109.466159}, '2023-08-12': {'BTC': 3.7e-05, 'RUB': 109.510682}, '2023-08-13': {'BTC': 3.7e-05, 'RUB': 109.208586}, '2023-08-14': {'BTC': 3.7e-05, 'RUB': 107.359618}, '2023-08-15': {'BTC': 3.7e-05, 'RUB': 107.292459}, '2023-08-16': {'BTC': 3.8e-05, 'RUB': 102.775614}, '2023-08-17': {'BTC': 4.1e-05, 'RUB': 102.547769}, '2023-08-18': {'BTC': 4.2e-05, 'RUB': 102.427834}, '2023-08-19': {'BTC': 4.2e-05, 'RUB': 102.4575}, '2023-08-20': {'BTC': 4.1e-05, 'RUB': 102.329562}, '2023-08-21': {'BTC': 4.2e-05, 'RUB': 101.802385}, '2023-08-22': {'BTC': 4.2e-05, 'RUB': 102.305708}}}\n",
      "https://api.exchangerate.host/timeseries?start_date=2023-08-01&end_date=2023-08-22&symbols=BTC%2CRUB\n"
     ]
    }
   ],
   "source": [
    "import requests\n",
    "\n",
    "start_date = '2023-08-01'\n",
    "end_date = '2023-08-22'\n",
    "\n",
    "url = 'https://api.exchangerate.host/'\n",
    "timeseries_endpoint = 'timeseries'\n",
    "\n",
    "timeseries_url = url + timeseries_endpoint\n",
    "\n",
    "symbols = ['BTC', 'RUB']\n",
    "\n",
    "data = dict(\n",
    "    start_date=start_date,\n",
    "    end_date=end_date,\n",
    "    symbols=','.join(symbols)\n",
    ")\n",
    "\n",
    "responce = requests.get(timeseries_url, params=data)\n",
    "result = responce.json()\n",
    "\n",
    "print(result)"
   ]
  }
 ],
 "metadata": {
  "kernelspec": {
   "display_name": "Python 3",
   "language": "python",
   "name": "python3"
  },
  "language_info": {
   "codemirror_mode": {
    "name": "ipython",
    "version": 3
   },
   "file_extension": ".py",
   "mimetype": "text/x-python",
   "name": "python",
   "nbconvert_exporter": "python",
   "pygments_lexer": "ipython3",
   "version": "3.9.6"
  },
  "orig_nbformat": 4
 },
 "nbformat": 4,
 "nbformat_minor": 2
}
